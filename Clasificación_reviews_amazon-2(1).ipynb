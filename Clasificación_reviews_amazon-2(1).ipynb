{
 "cells": [
  {
   "cell_type": "code",
   "metadata": {
    "tags": [],
    "deepnote_to_be_reexecuted": false,
    "source_hash": "e3dc2af",
    "execution_start": 1647555351422,
    "execution_millis": 6880,
    "cell_id": "e721bf7e-1018-4d23-9950-88d400aec47c",
    "deepnote_cell_type": "code",
    "deepnote_cell_height": 261
   },
   "source": "#import libraries\nimport pandas as pd\nimport matplotlib.pyplot as plt\nimport numpy as np\nimport re  # Librería de expresiones regulares\nfrom sklearn.model_selection import train_test_split\nfrom sklearn.feature_extraction.text import TfidfVectorizer \n# Crea bolsa de palabras y vectoriza (califica con valores numérico palabras del lenguaje ordinario)\nfrom sklearn.ensemble import RandomForestClassifier  \nfrom sklearn import svm # Importando maquinas de soporte vectorial \nfrom sklearn.linear_model import LogisticRegression",
   "execution_count": 1,
   "outputs": []
  },
  {
   "cell_type": "code",
   "metadata": {
    "tags": [],
    "deepnote_to_be_reexecuted": false,
    "source_hash": "88bd7661",
    "execution_start": 1647555358303,
    "execution_millis": 39,
    "cell_id": "00001-431c7c86-7d1e-48a2-af74-22ed091cdea9",
    "deepnote_cell_type": "code",
    "deepnote_cell_height": 118,
    "deepnote_output_heights": [
     21
    ]
   },
   "source": "RandomForestClassifier",
   "execution_count": 2,
   "outputs": [
    {
     "output_type": "execute_result",
     "execution_count": 2,
     "data": {
      "text/plain": "sklearn.ensemble._forest.RandomForestClassifier"
     },
     "metadata": {}
    }
   ]
  },
  {
   "cell_type": "code",
   "metadata": {
    "tags": [],
    "deepnote_to_be_reexecuted": false,
    "source_hash": "f05219aa",
    "execution_start": 1647555358338,
    "execution_millis": 5495,
    "cell_id": "00002-95151aed-2f35-4c8c-b80a-874f433aacfe",
    "deepnote_cell_type": "code",
    "deepnote_cell_height": 279.20001220703125
   },
   "source": "import nltk\nnltk.download('wordnet')\nnltk.download('stopwords')\nnltk.download('omw-1.4')\nfrom nltk.corpus import stopwords",
   "execution_count": 3,
   "outputs": [
    {
     "name": "stderr",
     "text": "[nltk_data] Downloading package wordnet to /root/nltk_data...\n[nltk_data]   Unzipping corpora/wordnet.zip.\n[nltk_data] Downloading package stopwords to /root/nltk_data...\n[nltk_data]   Unzipping corpora/stopwords.zip.\n[nltk_data] Downloading package omw-1.4 to /root/nltk_data...\n[nltk_data]   Unzipping corpora/omw-1.4.zip.\n",
     "output_type": "stream"
    }
   ]
  },
  {
   "cell_type": "code",
   "metadata": {
    "tags": [],
    "deepnote_to_be_reexecuted": false,
    "source_hash": "9edc7356",
    "execution_start": 1647555363865,
    "execution_millis": 8797,
    "cell_id": "00003-d166f2f0-d48c-4fca-8b10-bc7bb5cc96ec",
    "deepnote_cell_type": "code",
    "deepnote_cell_height": 81
   },
   "source": "data = pd.read_csv('Reviews.csv')[['Score','Summary','Text']]",
   "execution_count": 4,
   "outputs": []
  },
  {
   "cell_type": "code",
   "metadata": {
    "tags": [],
    "deepnote_to_be_reexecuted": false,
    "source_hash": "957547ae",
    "execution_start": 1647555372678,
    "execution_millis": 166,
    "cell_id": "00004-d986a783-0677-4ebd-bdce-c462670256af",
    "deepnote_cell_type": "code",
    "deepnote_cell_height": 284
   },
   "source": "data.info()",
   "execution_count": 5,
   "outputs": [
    {
     "name": "stdout",
     "text": "<class 'pandas.core.frame.DataFrame'>\nRangeIndex: 568454 entries, 0 to 568453\nData columns (total 3 columns):\n #   Column   Non-Null Count   Dtype \n---  ------   --------------   ----- \n 0   Score    568454 non-null  int64 \n 1   Summary  568427 non-null  object\n 2   Text     568454 non-null  object\ndtypes: int64(1), object(2)\nmemory usage: 13.0+ MB\n",
     "output_type": "stream"
    }
   ]
  },
  {
   "cell_type": "markdown",
   "source": "### Sampling and data cleaning",
   "metadata": {
    "tags": [],
    "is_collapsed": false,
    "cell_id": "00005-5500f6b5-3d51-48fe-8034-a84118942954",
    "deepnote_cell_type": "text-cell-h3"
   }
  },
  {
   "cell_type": "code",
   "metadata": {
    "tags": [],
    "deepnote_to_be_reexecuted": false,
    "source_hash": "6ec519be",
    "execution_start": 1647555372864,
    "execution_millis": 154,
    "cell_id": "00006-e2e2130a-390c-49c0-ab3e-c7b02c3a5a50",
    "deepnote_cell_type": "code",
    "deepnote_cell_height": 81
   },
   "source": "df = data.sample(frac=0.2) # Toma el 20% de los datos de forma aleatoria",
   "execution_count": 6,
   "outputs": []
  },
  {
   "cell_type": "code",
   "metadata": {
    "tags": [],
    "deepnote_to_be_reexecuted": false,
    "source_hash": "615c402d",
    "execution_start": 1647555373018,
    "execution_millis": 121,
    "cell_id": "00007-54264c87-aca0-4d1f-947c-9d298e51fbdd",
    "deepnote_cell_type": "code",
    "deepnote_cell_height": 99
   },
   "source": "dicc = {'5':3,'4':3,'3':2,'2':1,'1':1}\ndf.Score =df.Score.astype(str).map(dicc)",
   "execution_count": 7,
   "outputs": []
  },
  {
   "cell_type": "code",
   "metadata": {
    "tags": [],
    "deepnote_to_be_reexecuted": false,
    "source_hash": "1bd18b6b",
    "execution_start": 1647555373146,
    "execution_millis": 103,
    "cell_id": "00008-19cd022e-3d9e-402b-89ed-b3595db505fa",
    "deepnote_cell_type": "code",
    "deepnote_cell_height": 81
   },
   "source": "df.dropna(inplace=True)",
   "execution_count": 8,
   "outputs": []
  },
  {
   "cell_type": "code",
   "metadata": {
    "tags": [],
    "deepnote_to_be_reexecuted": false,
    "source_hash": "7c47fed2",
    "execution_start": 1647555373256,
    "execution_millis": 35,
    "cell_id": "00009-f99809c3-65e5-4ff6-9487-4512a13eaf36",
    "deepnote_cell_type": "code",
    "deepnote_cell_height": 117
   },
   "source": "# Compensando las clases de los datos\nn = df['Score'].value_counts().min()\ndf = df.groupby('Score').head(n)",
   "execution_count": 9,
   "outputs": []
  },
  {
   "cell_type": "code",
   "metadata": {
    "tags": [],
    "deepnote_to_be_reexecuted": false,
    "source_hash": "5a0bacb0",
    "execution_start": 1647555373296,
    "execution_millis": 92,
    "cell_id": "00010-d6a03601-1ded-45cb-9908-118d926a1437",
    "deepnote_cell_type": "code",
    "deepnote_cell_height": 188
   },
   "source": "df[df.Summary.isna()]",
   "execution_count": 10,
   "outputs": [
    {
     "output_type": "execute_result",
     "execution_count": 10,
     "data": {
      "application/vnd.deepnote.dataframe.v3+json": {
       "column_count": 3,
       "row_count": 0,
       "columns": [
        {
         "name": "Score",
         "dtype": "int64",
         "stats": {
          "unique_count": 0,
          "nan_count": 0,
          "min": null,
          "max": null,
          "histogram": [
           {
            "bin_start": 0,
            "bin_end": 0.1,
            "count": 0
           },
           {
            "bin_start": 0.1,
            "bin_end": 0.2,
            "count": 0
           },
           {
            "bin_start": 0.2,
            "bin_end": 0.30000000000000004,
            "count": 0
           },
           {
            "bin_start": 0.30000000000000004,
            "bin_end": 0.4,
            "count": 0
           },
           {
            "bin_start": 0.4,
            "bin_end": 0.5,
            "count": 0
           },
           {
            "bin_start": 0.5,
            "bin_end": 0.6000000000000001,
            "count": 0
           },
           {
            "bin_start": 0.6000000000000001,
            "bin_end": 0.7000000000000001,
            "count": 0
           },
           {
            "bin_start": 0.7000000000000001,
            "bin_end": 0.8,
            "count": 0
           },
           {
            "bin_start": 0.8,
            "bin_end": 0.9,
            "count": 0
           },
           {
            "bin_start": 0.9,
            "bin_end": 1,
            "count": 0
           }
          ]
         }
        },
        {
         "name": "Summary",
         "dtype": "object",
         "stats": {
          "unique_count": 0,
          "nan_count": 0,
          "categories": []
         }
        },
        {
         "name": "Text",
         "dtype": "object",
         "stats": {
          "unique_count": 0,
          "nan_count": 0,
          "categories": []
         }
        },
        {
         "name": "_deepnote_index_column",
         "dtype": "int64"
        }
       ],
       "rows": []
      },
      "text/plain": "Empty DataFrame\nColumns: [Score, Summary, Text]\nIndex: []",
      "text/html": "<div>\n<style scoped>\n    .dataframe tbody tr th:only-of-type {\n        vertical-align: middle;\n    }\n\n    .dataframe tbody tr th {\n        vertical-align: top;\n    }\n\n    .dataframe thead th {\n        text-align: right;\n    }\n</style>\n<table border=\"1\" class=\"dataframe\">\n  <thead>\n    <tr style=\"text-align: right;\">\n      <th></th>\n      <th>Score</th>\n      <th>Summary</th>\n      <th>Text</th>\n    </tr>\n  </thead>\n  <tbody>\n  </tbody>\n</table>\n</div>"
     },
     "metadata": {}
    }
   ]
  },
  {
   "cell_type": "code",
   "metadata": {
    "tags": [],
    "deepnote_to_be_reexecuted": false,
    "source_hash": "e2df4eca",
    "execution_start": 1647555373387,
    "execution_millis": 2,
    "cell_id": "00011-f006a546-19e2-4835-b754-aa425f6ff52d",
    "deepnote_cell_type": "code",
    "deepnote_cell_height": 176,
    "deepnote_output_heights": [
     79
    ]
   },
   "source": "df['Score'].value_counts()",
   "execution_count": 11,
   "outputs": [
    {
     "output_type": "execute_result",
     "execution_count": 11,
     "data": {
      "text/plain": "3    8455\n1    8455\n2    8455\nName: Score, dtype: int64"
     },
     "metadata": {}
    }
   ]
  },
  {
   "cell_type": "code",
   "metadata": {
    "tags": [],
    "deepnote_to_be_reexecuted": false,
    "source_hash": "eaf0ca6d",
    "execution_start": 1647555373387,
    "execution_millis": 42,
    "cell_id": "00012-5c8e6a6c-8650-4e23-8dd3-8de7602d6046",
    "deepnote_cell_type": "code",
    "deepnote_cell_height": 117
   },
   "source": "# Separando las variables predictoras y la variable objetivo\nX = df.Summary.reset_index(drop=True)\ny = df.Score.reset_index(drop=True)",
   "execution_count": 12,
   "outputs": []
  },
  {
   "cell_type": "code",
   "metadata": {
    "tags": [],
    "deepnote_to_be_reexecuted": false,
    "source_hash": "64f09a3e",
    "execution_start": 1647555373429,
    "execution_millis": 4833,
    "cell_id": "00013-fbe2def1-717c-4c7b-b832-867a89a88e7f",
    "deepnote_cell_type": "code",
    "deepnote_cell_height": 657
   },
   "source": "from nltk.stem import WordNetLemmatizer\ndocuments = []\n\n#from nltk.stem import WordNetLemmatizer\n\nstemmer = WordNetLemmatizer()\n\nfor sen in range(0, len(X)):\n    # Remove all the special characters -\n    document = re.sub(r'W', ' ', str(X[sen]))\n    \n    # remove all single characters -\n    document = re.sub(r's+[a-zA-Z]s+', ' ', document)\n    \n    # Remove single characters from the start -\n    document = re.sub(r'^[a-zA-Z]s+', ' ', document) \n    \n    # Substituting multiple spaces with single space -\n    document = re.sub(r's+', ' ', document, flags=re.I)\n    \n    # Removing prefixed 'b'    ?\n    document = re.sub(r'^bs+', '', document)\n    \n    # Converting to Lowercase\n    document = document.lower()\n    \n    # Lemmatization\n    document = document.split()\n\n    document = [stemmer.lemmatize(word) for word in document]\n    document=\" \".join(document)\n    \n    documents.append(document)",
   "execution_count": 13,
   "outputs": []
  },
  {
   "cell_type": "markdown",
   "source": "### Bag of words and vectorization",
   "metadata": {
    "tags": [],
    "is_collapsed": false,
    "cell_id": "00014-b24931e0-fd8e-430e-a7e0-365e6f8050d2",
    "deepnote_cell_type": "text-cell-h3"
   }
  },
  {
   "cell_type": "code",
   "metadata": {
    "tags": [],
    "deepnote_to_be_reexecuted": false,
    "source_hash": "78748f8",
    "execution_start": 1647555378273,
    "execution_millis": 535,
    "cell_id": "00015-878b65dc-97ee-485f-aabe-375110d2fa7e",
    "deepnote_cell_type": "code",
    "deepnote_cell_height": 135
   },
   "source": "from sklearn.feature_extraction.text import TfidfVectorizer\ntfivec = TfidfVectorizer(max_features=1500, min_df= 25, max_df= 0.33,\n                        stop_words= stopwords.words('english'))\nX = tfivec.fit_transform(documents).toarray()",
   "execution_count": 14,
   "outputs": []
  },
  {
   "cell_type": "markdown",
   "source": "### Test and training",
   "metadata": {
    "tags": [],
    "is_collapsed": false,
    "cell_id": "00016-e05564e8-1ef2-4e33-8f5e-6214667ed467",
    "deepnote_cell_type": "text-cell-h3"
   }
  },
  {
   "cell_type": "code",
   "metadata": {
    "tags": [],
    "deepnote_to_be_reexecuted": false,
    "source_hash": "a2bdf3cf",
    "execution_start": 1647555378814,
    "execution_millis": 199,
    "cell_id": "00017-81c83f67-b23f-4b68-812d-bf1465b999fb",
    "deepnote_cell_type": "code",
    "deepnote_cell_height": 81
   },
   "source": "X_train, X_test, y_train, y_test = train_test_split(X ,y, test_size=0.3, random_state= 5)",
   "execution_count": 15,
   "outputs": []
  },
  {
   "cell_type": "markdown",
   "source": "### Classification",
   "metadata": {
    "tags": [],
    "is_collapsed": false,
    "cell_id": "00018-deed7c5e-d619-4da3-bd43-4e8e204d111a",
    "deepnote_cell_type": "text-cell-h3"
   }
  },
  {
   "cell_type": "markdown",
   "source": "clf_svm = svm.SVC(kernel='linear')\n\nclf_svm.fit(X_train, y_train)",
   "metadata": {
    "tags": [],
    "deepnote_to_be_reexecuted": false,
    "source_hash": "a8a8e7d5",
    "allow_embed": false,
    "execution_start": 1641863004691,
    "cell_id": "00019-dcbbcdf7-ae6c-49a2-acb4-22c7833ef693",
    "deepnote_cell_type": "markdown",
    "deepnote_cell_height": 88.80000305175781
   }
  },
  {
   "cell_type": "code",
   "metadata": {
    "tags": [],
    "deepnote_to_be_reexecuted": false,
    "source_hash": "5bc750c",
    "allow_embed": false,
    "execution_start": 1647555379020,
    "execution_millis": 8244,
    "cell_id": "00020-daec96a2-5557-4b1d-9984-147ae84d36c1",
    "deepnote_cell_type": "code",
    "deepnote_cell_height": 327.6000061035156,
    "deepnote_output_heights": [
     null,
     21
    ]
   },
   "source": "clf_log = LogisticRegression(random_state= 20)\nclf_log.fit(X_train, y_train)",
   "execution_count": 16,
   "outputs": [
    {
     "name": "stderr",
     "text": "/shared-libs/python3.7/py/lib/python3.7/site-packages/sklearn/linear_model/_logistic.py:818: ConvergenceWarning: lbfgs failed to converge (status=1):\nSTOP: TOTAL NO. of ITERATIONS REACHED LIMIT.\n\nIncrease the number of iterations (max_iter) or scale the data as shown in:\n    https://scikit-learn.org/stable/modules/preprocessing.html\nPlease also refer to the documentation for alternative solver options:\n    https://scikit-learn.org/stable/modules/linear_model.html#logistic-regression\n  extra_warning_msg=_LOGISTIC_SOLVER_CONVERGENCE_MSG,\n",
     "output_type": "stream"
    },
    {
     "output_type": "execute_result",
     "execution_count": 16,
     "data": {
      "text/plain": "LogisticRegression(random_state=20)"
     },
     "metadata": {}
    }
   ]
  },
  {
   "cell_type": "code",
   "metadata": {
    "tags": [],
    "deepnote_to_be_reexecuted": false,
    "source_hash": "192c593f",
    "execution_start": 1647555387313,
    "execution_millis": 71769,
    "cell_id": "00021-1fa37b07-77a3-48f8-96e2-c31ee47b291c",
    "deepnote_cell_type": "code",
    "deepnote_cell_height": 136,
    "deepnote_output_heights": [
     21
    ]
   },
   "source": "classifier = RandomForestClassifier(n_estimators=100, random_state=20)\nclassifier.fit(X_train, y_train) ",
   "execution_count": 17,
   "outputs": [
    {
     "output_type": "execute_result",
     "execution_count": 17,
     "data": {
      "text/plain": "RandomForestClassifier(random_state=20)"
     },
     "metadata": {}
    }
   ]
  },
  {
   "cell_type": "code",
   "metadata": {
    "tags": [],
    "deepnote_to_be_reexecuted": false,
    "source_hash": "d4f0ae46",
    "execution_start": 1647555459081,
    "execution_millis": 1242,
    "cell_id": "00022-c002d983-4445-4980-becb-f0e6bf83acbe",
    "deepnote_cell_type": "code",
    "deepnote_cell_height": 99
   },
   "source": "y_pred = clf_log.predict(X_test)\ny_predF = classifier.predict(X_test)",
   "execution_count": 18,
   "outputs": []
  },
  {
   "cell_type": "markdown",
   "source": "### Evaluation",
   "metadata": {
    "tags": [],
    "is_collapsed": false,
    "cell_id": "00023-ada06979-2682-4191-ba2e-93adc716fbbf",
    "deepnote_cell_type": "text-cell-h3"
   }
  },
  {
   "cell_type": "code",
   "metadata": {
    "tags": [],
    "deepnote_to_be_reexecuted": false,
    "source_hash": "589432dc",
    "execution_start": 1647555460324,
    "execution_millis": 56,
    "cell_id": "00024-e273f948-1695-4182-b376-4a9d4a3a4a2d",
    "deepnote_cell_type": "code",
    "deepnote_cell_height": 166.39999389648438
   },
   "source": "from sklearn.metrics import f1_score\nprint(clf_log.score(X_test, y_test))\nprint(f1_score(y_test, y_pred, average=None))",
   "execution_count": 19,
   "outputs": [
    {
     "name": "stdout",
     "text": "0.5879106438896189\n[0.59920058 0.51109215 0.64717582]\n",
     "output_type": "stream"
    }
   ]
  },
  {
   "cell_type": "code",
   "metadata": {
    "tags": [],
    "deepnote_to_be_reexecuted": false,
    "source_hash": "2825f7ff",
    "execution_start": 1647555460381,
    "execution_millis": 85,
    "cell_id": "00025-4f10d82e-de70-44dd-af9d-eeacb831bb48",
    "deepnote_cell_type": "code",
    "deepnote_cell_height": 451
   },
   "source": "from sklearn.metrics import classification_report, confusion_matrix, accuracy_score\nfrom sklearn.metrics import f1_score\n\nprint(confusion_matrix(y_test,y_pred))\nprint(classification_report(y_test,y_pred))\nprint(accuracy_score(y_test, y_pred))",
   "execution_count": 20,
   "outputs": [
    {
     "name": "stdout",
     "text": "[[1649  535  344]\n [ 827 1198  506]\n [ 500  424 1627]]\n              precision    recall  f1-score   support\n\n           1       0.55      0.65      0.60      2528\n           2       0.56      0.47      0.51      2531\n           3       0.66      0.64      0.65      2551\n\n    accuracy                           0.59      7610\n   macro avg       0.59      0.59      0.59      7610\nweighted avg       0.59      0.59      0.59      7610\n\n0.5879106438896189\n",
     "output_type": "stream"
    }
   ]
  },
  {
   "cell_type": "code",
   "metadata": {
    "tags": [],
    "deepnote_to_be_reexecuted": false,
    "source_hash": "e9fce158",
    "execution_start": 1647555460466,
    "execution_millis": 79,
    "cell_id": "00026-b6d9902b-a7d8-4bf6-9c1b-1fc4827a09be",
    "deepnote_cell_type": "code",
    "deepnote_cell_height": 397
   },
   "source": "print(confusion_matrix(y_test,y_predF))\nprint(classification_report(y_test,y_predF))\nprint(accuracy_score(y_test, y_predF))",
   "execution_count": 21,
   "outputs": [
    {
     "name": "stdout",
     "text": "[[1663  511  354]\n [ 749 1316  466]\n [ 526  407 1618]]\n              precision    recall  f1-score   support\n\n           1       0.57      0.66      0.61      2528\n           2       0.59      0.52      0.55      2531\n           3       0.66      0.63      0.65      2551\n\n    accuracy                           0.60      7610\n   macro avg       0.61      0.60      0.60      7610\nweighted avg       0.61      0.60      0.60      7610\n\n0.6040735873850197\n",
     "output_type": "stream"
    }
   ]
  },
  {
   "cell_type": "code",
   "metadata": {
    "tags": [],
    "deepnote_to_be_reexecuted": false,
    "source_hash": "b623e53d",
    "cell_id": "00027-946b642e-dbda-4062-ae93-d59a1d379c67",
    "execution_start": 1647555460545,
    "execution_millis": 1,
    "deepnote_cell_type": "code",
    "deepnote_cell_height": 81
   },
   "source": "",
   "execution_count": 21,
   "outputs": []
  },
  {
   "cell_type": "markdown",
   "source": "<a style='text-decoration:none;line-height:16px;display:flex;color:#5B5B62;padding:10px;justify-content:end;' href='https://deepnote.com?utm_source=created-in-deepnote-cell&projectId=9ac2f155-fc59-4dad-9a76-59ef87abc2f6' target=\"_blank\">\n<img alt='Created in deepnote.com' style='display:inline;max-height:16px;margin:0px;margin-right:7.5px;' src='data:image/svg+xml;base64,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' > </img>\nCreated in <span style='font-weight:600;margin-left:4px;'>Deepnote</span></a>",
   "metadata": {
    "tags": [],
    "created_in_deepnote_cell": true,
    "deepnote_cell_type": "markdown"
   }
  }
 ],
 "nbformat": 4,
 "nbformat_minor": 2,
 "metadata": {
  "orig_nbformat": 2,
  "deepnote": {
   "is_reactive": false
  },
  "deepnote_notebook_id": "845d3c91-b97a-4fb2-a87c-d274f56e6044",
  "deepnote_execution_queue": []
 }
}